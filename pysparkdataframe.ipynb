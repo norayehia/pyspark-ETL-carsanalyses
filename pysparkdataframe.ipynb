{
  "nbformat": 4,
  "nbformat_minor": 0,
  "metadata": {
    "colab": {
      "provenance": [],
      "include_colab_link": true
    },
    "kernelspec": {
      "display_name": "Python 3",
      "language": "python",
      "name": "python3"
    }
  },
  "cells": [
    {
      "cell_type": "markdown",
      "metadata": {
        "id": "view-in-github",
        "colab_type": "text"
      },
      "source": [
        "<a href=\"https://colab.research.google.com/github/norayehia/pyspark-ETL-carsanalyses/blob/main/pysparkdataframe.ipynb\" target=\"_parent\"><img src=\"https://colab.research.google.com/assets/colab-badge.svg\" alt=\"Open In Colab\"/></a>"
      ]
    },
    {
      "cell_type": "markdown",
      "metadata": {
        "id": "OdNZjunkua1o"
      },
      "source": [
        "##  Getting started with Spark DataFrames\n",
        ",undestand dataframe ,describe,"
      ]
    },
    {
      "cell_type": "code",
      "source": [
        "# Install Java\n",
        "!apt-get install openjdk-8-jdk-headless -qq > /dev/null\n",
        "\n",
        "# Download and install Spark (change the version if needed)\n",
        "!wget -q https://archive.apache.org/dist/spark/spark-3.1.2/spark-3.1.2-bin-hadoop3.2.tgz\n",
        "!tar xf spark-3.1.2-bin-hadoop3.2.tgz\n",
        "!pip install -q findspark"
      ],
      "metadata": {
        "id": "jT_Ptg4R8Ddi"
      },
      "execution_count": null,
      "outputs": []
    },
    {
      "cell_type": "code",
      "source": [
        "# Set up environment variables\n",
        "import os\n",
        "os.environ[\"JAVA_HOME\"] = \"/usr/lib/jvm/java-8-openjdk-amd64\"\n",
        "os.environ[\"SPARK_HOME\"] = \"/content/spark-3.1.2-bin-hadoop3.2\""
      ],
      "metadata": {
        "id": "ncZDUfoL8HCh"
      },
      "execution_count": null,
      "outputs": []
    },
    {
      "cell_type": "code",
      "source": [
        "!pip show py4j"
      ],
      "metadata": {
        "colab": {
          "base_uri": "https://localhost:8080/"
        },
        "id": "yv_EurEy8Y-v",
        "outputId": "b94c260a-cdd2-4e56-e2e7-9c0c3bca1791"
      },
      "execution_count": null,
      "outputs": [
        {
          "output_type": "stream",
          "name": "stdout",
          "text": [
            "Name: py4j\n",
            "Version: 0.10.9.7\n",
            "Summary: Enables Python programs to dynamically access arbitrary Java objects\n",
            "Home-page: https://www.py4j.org/\n",
            "Author: Barthelemy Dagenais\n",
            "Author-email: barthelemy@infobart.com\n",
            "License: BSD License\n",
            "Location: /usr/local/lib/python3.10/dist-packages\n",
            "Requires: \n",
            "Required-by: hyperopt\n"
          ]
        }
      ]
    },
    {
      "cell_type": "code",
      "source": [
        "!pip install py4j==0.10.9"
      ],
      "metadata": {
        "colab": {
          "base_uri": "https://localhost:8080/"
        },
        "id": "mmecfZhN8aZE",
        "outputId": "caddb0eb-f0d9-4242-d1d3-26375ecb2a17"
      },
      "execution_count": null,
      "outputs": [
        {
          "output_type": "stream",
          "name": "stdout",
          "text": [
            "Collecting py4j==0.10.9\n",
            "  Downloading py4j-0.10.9-py2.py3-none-any.whl (198 kB)\n",
            "\u001b[2K     \u001b[90m━━━━━━━━━━━━━━━━━━━━━━━━━━━━━━━━━━━━━━━━\u001b[0m \u001b[32m198.6/198.6 kB\u001b[0m \u001b[31m1.6 MB/s\u001b[0m eta \u001b[36m0:00:00\u001b[0m\n",
            "\u001b[?25hInstalling collected packages: py4j\n",
            "  Attempting uninstall: py4j\n",
            "    Found existing installation: py4j 0.10.9.7\n",
            "    Uninstalling py4j-0.10.9.7:\n",
            "      Successfully uninstalled py4j-0.10.9.7\n",
            "Successfully installed py4j-0.10.9\n"
          ]
        }
      ]
    },
    {
      "cell_type": "code",
      "source": [
        "!pip install pyspark"
      ],
      "metadata": {
        "colab": {
          "base_uri": "https://localhost:8080/",
          "height": 449
        },
        "id": "-YUq2_2Ji84H",
        "outputId": "e65fe5c5-4c67-4d82-cdc7-53c67bdd99cf"
      },
      "execution_count": null,
      "outputs": [
        {
          "output_type": "stream",
          "name": "stdout",
          "text": [
            "Collecting pyspark\n",
            "  Downloading pyspark-3.5.1.tar.gz (317.0 MB)\n",
            "\u001b[2K     \u001b[90m━━━━━━━━━━━━━━━━━━━━━━━━━━━━━━━━━━━━━━━━\u001b[0m \u001b[32m317.0/317.0 MB\u001b[0m \u001b[31m4.1 MB/s\u001b[0m eta \u001b[36m0:00:00\u001b[0m\n",
            "\u001b[?25h  Preparing metadata (setup.py) ... \u001b[?25l\u001b[?25hdone\n",
            "Collecting py4j==0.10.9.7 (from pyspark)\n",
            "  Downloading py4j-0.10.9.7-py2.py3-none-any.whl (200 kB)\n",
            "\u001b[2K     \u001b[90m━━━━━━━━━━━━━━━━━━━━━━━━━━━━━━━━━━━━━━━━\u001b[0m \u001b[32m200.5/200.5 kB\u001b[0m \u001b[31m20.4 MB/s\u001b[0m eta \u001b[36m0:00:00\u001b[0m\n",
            "\u001b[?25hBuilding wheels for collected packages: pyspark\n",
            "  Building wheel for pyspark (setup.py) ... \u001b[?25l\u001b[?25hdone\n",
            "  Created wheel for pyspark: filename=pyspark-3.5.1-py2.py3-none-any.whl size=317488491 sha256=a7ab64405f53215aca5cd9ac461abb740de2fae12aa04af70a7a22e26563557c\n",
            "  Stored in directory: /root/.cache/pip/wheels/80/1d/60/2c256ed38dddce2fdd93be545214a63e02fbd8d74fb0b7f3a6\n",
            "Successfully built pyspark\n",
            "Installing collected packages: py4j, pyspark\n",
            "  Attempting uninstall: py4j\n",
            "    Found existing installation: py4j 0.10.9\n",
            "    Uninstalling py4j-0.10.9:\n",
            "      Successfully uninstalled py4j-0.10.9\n",
            "Successfully installed py4j-0.10.9.7 pyspark-3.5.1\n"
          ]
        },
        {
          "output_type": "display_data",
          "data": {
            "application/vnd.colab-display-data+json": {
              "pip_warning": {
                "packages": [
                  "py4j",
                  "pyspark"
                ]
              },
              "id": "a66513955325476ca3b28843a09f830a"
            }
          },
          "metadata": {}
        }
      ]
    },
    {
      "cell_type": "code",
      "metadata": {
        "id": "PiKH3-cCua1r"
      },
      "source": [
        "# Importing findspark module to connect jupyter with spark\n",
        "import os\n",
        "import pyspark\n"
      ],
      "execution_count": null,
      "outputs": []
    },
    {
      "cell_type": "code",
      "metadata": {
        "id": "ovx15_CEwu3f"
      },
      "source": [
        "import findspark\n",
        "#findspark.init()"
      ],
      "execution_count": null,
      "outputs": []
    },
    {
      "cell_type": "code",
      "source": [
        "from google.colab import drive\n",
        "drive.mount('/content/drive')"
      ],
      "metadata": {
        "colab": {
          "base_uri": "https://localhost:8080/"
        },
        "id": "Fd4jxpLnjst5",
        "outputId": "3198aa24-eba7-4e58-8f20-902029cb2bf5"
      },
      "execution_count": null,
      "outputs": [
        {
          "output_type": "stream",
          "name": "stdout",
          "text": [
            "Mounted at /content/drive\n"
          ]
        }
      ]
    },
    {
      "cell_type": "code",
      "source": [
        "from pyspark.conf import SparkConf"
      ],
      "metadata": {
        "id": "CxKiMiYFz8Nr"
      },
      "execution_count": null,
      "outputs": []
    },
    {
      "cell_type": "code",
      "source": [
        "# Import necessary modules\n",
        "import os\n",
        "import pyspark\n",
        "from pyspark.sql import SQLContext"
      ],
      "metadata": {
        "id": "-rktLWjD9flP"
      },
      "execution_count": null,
      "outputs": []
    },
    {
      "cell_type": "code",
      "source": [
        "import findspark\n",
        "findspark.init()\n",
        "\n",
        "from pyspark.sql import SparkSession\n",
        "\n",
        "spark = SparkSession.builder \\\n",
        "         .master(\"local[*]\") \\\n",
        "         .appName(\"SparkDataFrame\") \\\n",
        "         .getOrCreate()"
      ],
      "metadata": {
        "id": "XCHc8YQm8gnw"
      },
      "execution_count": null,
      "outputs": []
    },
    {
      "cell_type": "code",
      "source": [
        "# Use the existing SparkContext object\n",
        "sc = pyspark.SparkContext.getOrCreate()\n",
        "sqlc = SQLContext(sc)"
      ],
      "metadata": {
        "id": "XokA34Hn9lom"
      },
      "execution_count": null,
      "outputs": []
    },
    {
      "cell_type": "markdown",
      "metadata": {
        "id": "E2xJxoO0ua2I"
      },
      "source": [
        "### Create a sample dataframe by reading the data from a csv file"
      ]
    },
    {
      "cell_type": "code",
      "metadata": {
        "id": "VMTFJzas0kq7",
        "outputId": "c57b2a85-bd63-42de-e2c8-98fddb02303c",
        "colab": {
          "base_uri": "https://localhost:8080/",
          "height": 73
        }
      },
      "source": [
        "from google.colab import files\n",
        "uploaded = files.upload()"
      ],
      "execution_count": null,
      "outputs": [
        {
          "output_type": "display_data",
          "data": {
            "text/plain": [
              "<IPython.core.display.HTML object>"
            ],
            "text/html": [
              "\n",
              "     <input type=\"file\" id=\"files-c920823e-d292-441c-9bac-7e864c568ce3\" name=\"files[]\" multiple disabled\n",
              "        style=\"border:none\" />\n",
              "     <output id=\"result-c920823e-d292-441c-9bac-7e864c568ce3\">\n",
              "      Upload widget is only available when the cell has been executed in the\n",
              "      current browser session. Please rerun this cell to enable.\n",
              "      </output>\n",
              "      <script>// Copyright 2017 Google LLC\n",
              "//\n",
              "// Licensed under the Apache License, Version 2.0 (the \"License\");\n",
              "// you may not use this file except in compliance with the License.\n",
              "// You may obtain a copy of the License at\n",
              "//\n",
              "//      http://www.apache.org/licenses/LICENSE-2.0\n",
              "//\n",
              "// Unless required by applicable law or agreed to in writing, software\n",
              "// distributed under the License is distributed on an \"AS IS\" BASIS,\n",
              "// WITHOUT WARRANTIES OR CONDITIONS OF ANY KIND, either express or implied.\n",
              "// See the License for the specific language governing permissions and\n",
              "// limitations under the License.\n",
              "\n",
              "/**\n",
              " * @fileoverview Helpers for google.colab Python module.\n",
              " */\n",
              "(function(scope) {\n",
              "function span(text, styleAttributes = {}) {\n",
              "  const element = document.createElement('span');\n",
              "  element.textContent = text;\n",
              "  for (const key of Object.keys(styleAttributes)) {\n",
              "    element.style[key] = styleAttributes[key];\n",
              "  }\n",
              "  return element;\n",
              "}\n",
              "\n",
              "// Max number of bytes which will be uploaded at a time.\n",
              "const MAX_PAYLOAD_SIZE = 100 * 1024;\n",
              "\n",
              "function _uploadFiles(inputId, outputId) {\n",
              "  const steps = uploadFilesStep(inputId, outputId);\n",
              "  const outputElement = document.getElementById(outputId);\n",
              "  // Cache steps on the outputElement to make it available for the next call\n",
              "  // to uploadFilesContinue from Python.\n",
              "  outputElement.steps = steps;\n",
              "\n",
              "  return _uploadFilesContinue(outputId);\n",
              "}\n",
              "\n",
              "// This is roughly an async generator (not supported in the browser yet),\n",
              "// where there are multiple asynchronous steps and the Python side is going\n",
              "// to poll for completion of each step.\n",
              "// This uses a Promise to block the python side on completion of each step,\n",
              "// then passes the result of the previous step as the input to the next step.\n",
              "function _uploadFilesContinue(outputId) {\n",
              "  const outputElement = document.getElementById(outputId);\n",
              "  const steps = outputElement.steps;\n",
              "\n",
              "  const next = steps.next(outputElement.lastPromiseValue);\n",
              "  return Promise.resolve(next.value.promise).then((value) => {\n",
              "    // Cache the last promise value to make it available to the next\n",
              "    // step of the generator.\n",
              "    outputElement.lastPromiseValue = value;\n",
              "    return next.value.response;\n",
              "  });\n",
              "}\n",
              "\n",
              "/**\n",
              " * Generator function which is called between each async step of the upload\n",
              " * process.\n",
              " * @param {string} inputId Element ID of the input file picker element.\n",
              " * @param {string} outputId Element ID of the output display.\n",
              " * @return {!Iterable<!Object>} Iterable of next steps.\n",
              " */\n",
              "function* uploadFilesStep(inputId, outputId) {\n",
              "  const inputElement = document.getElementById(inputId);\n",
              "  inputElement.disabled = false;\n",
              "\n",
              "  const outputElement = document.getElementById(outputId);\n",
              "  outputElement.innerHTML = '';\n",
              "\n",
              "  const pickedPromise = new Promise((resolve) => {\n",
              "    inputElement.addEventListener('change', (e) => {\n",
              "      resolve(e.target.files);\n",
              "    });\n",
              "  });\n",
              "\n",
              "  const cancel = document.createElement('button');\n",
              "  inputElement.parentElement.appendChild(cancel);\n",
              "  cancel.textContent = 'Cancel upload';\n",
              "  const cancelPromise = new Promise((resolve) => {\n",
              "    cancel.onclick = () => {\n",
              "      resolve(null);\n",
              "    };\n",
              "  });\n",
              "\n",
              "  // Wait for the user to pick the files.\n",
              "  const files = yield {\n",
              "    promise: Promise.race([pickedPromise, cancelPromise]),\n",
              "    response: {\n",
              "      action: 'starting',\n",
              "    }\n",
              "  };\n",
              "\n",
              "  cancel.remove();\n",
              "\n",
              "  // Disable the input element since further picks are not allowed.\n",
              "  inputElement.disabled = true;\n",
              "\n",
              "  if (!files) {\n",
              "    return {\n",
              "      response: {\n",
              "        action: 'complete',\n",
              "      }\n",
              "    };\n",
              "  }\n",
              "\n",
              "  for (const file of files) {\n",
              "    const li = document.createElement('li');\n",
              "    li.append(span(file.name, {fontWeight: 'bold'}));\n",
              "    li.append(span(\n",
              "        `(${file.type || 'n/a'}) - ${file.size} bytes, ` +\n",
              "        `last modified: ${\n",
              "            file.lastModifiedDate ? file.lastModifiedDate.toLocaleDateString() :\n",
              "                                    'n/a'} - `));\n",
              "    const percent = span('0% done');\n",
              "    li.appendChild(percent);\n",
              "\n",
              "    outputElement.appendChild(li);\n",
              "\n",
              "    const fileDataPromise = new Promise((resolve) => {\n",
              "      const reader = new FileReader();\n",
              "      reader.onload = (e) => {\n",
              "        resolve(e.target.result);\n",
              "      };\n",
              "      reader.readAsArrayBuffer(file);\n",
              "    });\n",
              "    // Wait for the data to be ready.\n",
              "    let fileData = yield {\n",
              "      promise: fileDataPromise,\n",
              "      response: {\n",
              "        action: 'continue',\n",
              "      }\n",
              "    };\n",
              "\n",
              "    // Use a chunked sending to avoid message size limits. See b/62115660.\n",
              "    let position = 0;\n",
              "    do {\n",
              "      const length = Math.min(fileData.byteLength - position, MAX_PAYLOAD_SIZE);\n",
              "      const chunk = new Uint8Array(fileData, position, length);\n",
              "      position += length;\n",
              "\n",
              "      const base64 = btoa(String.fromCharCode.apply(null, chunk));\n",
              "      yield {\n",
              "        response: {\n",
              "          action: 'append',\n",
              "          file: file.name,\n",
              "          data: base64,\n",
              "        },\n",
              "      };\n",
              "\n",
              "      let percentDone = fileData.byteLength === 0 ?\n",
              "          100 :\n",
              "          Math.round((position / fileData.byteLength) * 100);\n",
              "      percent.textContent = `${percentDone}% done`;\n",
              "\n",
              "    } while (position < fileData.byteLength);\n",
              "  }\n",
              "\n",
              "  // All done.\n",
              "  yield {\n",
              "    response: {\n",
              "      action: 'complete',\n",
              "    }\n",
              "  };\n",
              "}\n",
              "\n",
              "scope.google = scope.google || {};\n",
              "scope.google.colab = scope.google.colab || {};\n",
              "scope.google.colab._files = {\n",
              "  _uploadFiles,\n",
              "  _uploadFilesContinue,\n",
              "};\n",
              "})(self);\n",
              "</script> "
            ]
          },
          "metadata": {}
        },
        {
          "output_type": "stream",
          "name": "stdout",
          "text": [
            "Saving mtcars.csv to mtcars (2).csv\n"
          ]
        }
      ]
    },
    {
      "cell_type": "code",
      "source": [
        "#!pip install pyspark-csv"
      ],
      "metadata": {
        "colab": {
          "base_uri": "https://localhost:8080/"
        },
        "id": "Joo23NWi-ZFG",
        "outputId": "2e696497-e41b-4d69-81a7-3c83dffde088"
      },
      "execution_count": null,
      "outputs": [
        {
          "output_type": "stream",
          "name": "stdout",
          "text": [
            "\u001b[31mERROR: Could not find a version that satisfies the requirement pyspark-csv (from versions: none)\u001b[0m\u001b[31m\n",
            "\u001b[0m\u001b[31mERROR: No matching distribution found for pyspark-csv\u001b[0m\u001b[31m\n",
            "\u001b[0m"
          ]
        }
      ]
    },
    {
      "cell_type": "code",
      "source": [
        "#!curl -o mtcars.csv https://raw.githubusercontent.com/TrainingByPackt/Big-Data-Analysis-with-Python/master/Lesson04/mtcars.csv"
      ],
      "metadata": {
        "colab": {
          "base_uri": "https://localhost:8080/"
        },
        "id": "2ysZL2MB-eG1",
        "outputId": "48f89ff7-9509-4caf-89a4-49e31651e55b"
      },
      "execution_count": null,
      "outputs": [
        {
          "output_type": "stream",
          "name": "stdout",
          "text": [
            "  % Total    % Received % Xferd  Average Speed   Time    Time     Time  Current\n",
            "                                 Dload  Upload   Total   Spent    Left  Speed\n",
            "100  1700  100  1700    0     0   1336      0  0:00:01  0:00:01 --:--:--  1337\n"
          ]
        }
      ]
    },
    {
      "cell_type": "code",
      "source": [
        "df = spark.read.csv('mtcars.csv')"
      ],
      "metadata": {
        "id": "UvqjxKX1-5Wa"
      },
      "execution_count": null,
      "outputs": []
    },
    {
      "cell_type": "code",
      "metadata": {
        "id": "4Yvfn3jRua2J",
        "outputId": "f2f0e63c-7b89-46a4-fbc6-4d285c727681",
        "colab": {
          "base_uri": "https://localhost:8080/",
          "height": 187
        }
      },
      "source": [
        "#df = sqlc.read.format('com.databricks.spark.csv').options(header='true', inferschema='true').load('https://raw.githubusercontent.com/TrainingByPackt/Big-Data-Analysis-with-Python/master/Lesson04/mtcars.csv')\n",
        "type(df)"
      ],
      "execution_count": null,
      "outputs": [
        {
          "output_type": "execute_result",
          "data": {
            "text/plain": [
              "pyspark.sql.dataframe.DataFrame"
            ],
            "text/html": [
              "<div style=\"max-width:800px; border: 1px solid var(--colab-border-color);\"><style>\n",
              "      pre.function-repr-contents {\n",
              "        overflow-x: auto;\n",
              "        padding: 8px 12px;\n",
              "        max-height: 500px;\n",
              "      }\n",
              "\n",
              "      pre.function-repr-contents.function-repr-contents-collapsed {\n",
              "        cursor: pointer;\n",
              "        max-height: 100px;\n",
              "      }\n",
              "    </style>\n",
              "    <pre style=\"white-space: initial; background:\n",
              "         var(--colab-secondary-surface-color); padding: 8px 12px;\n",
              "         border-bottom: 1px solid var(--colab-border-color);\"><b>pyspark.sql.dataframe.DataFrame</b><br/>def __init__(jdf: JavaObject, sql_ctx: Union[&#x27;SQLContext&#x27;, &#x27;SparkSession&#x27;])</pre><pre class=\"function-repr-contents function-repr-contents-collapsed\" style=\"\"><a class=\"filepath\" style=\"display:none\" href=\"#\">/usr/local/lib/python3.10/dist-packages/pyspark/sql/dataframe.py</a>A distributed collection of data grouped into named columns.\n",
              "\n",
              ".. versionadded:: 1.3.0\n",
              "\n",
              ".. versionchanged:: 3.4.0\n",
              "    Supports Spark Connect.\n",
              "\n",
              "Examples\n",
              "--------\n",
              "A :class:`DataFrame` is equivalent to a relational table in Spark SQL,\n",
              "and can be created using various functions in :class:`SparkSession`:\n",
              "\n",
              "&gt;&gt;&gt; people = spark.createDataFrame([\n",
              "...     {&quot;deptId&quot;: 1, &quot;age&quot;: 40, &quot;name&quot;: &quot;Hyukjin Kwon&quot;, &quot;gender&quot;: &quot;M&quot;, &quot;salary&quot;: 50},\n",
              "...     {&quot;deptId&quot;: 1, &quot;age&quot;: 50, &quot;name&quot;: &quot;Takuya Ueshin&quot;, &quot;gender&quot;: &quot;M&quot;, &quot;salary&quot;: 100},\n",
              "...     {&quot;deptId&quot;: 2, &quot;age&quot;: 60, &quot;name&quot;: &quot;Xinrong Meng&quot;, &quot;gender&quot;: &quot;F&quot;, &quot;salary&quot;: 150},\n",
              "...     {&quot;deptId&quot;: 3, &quot;age&quot;: 20, &quot;name&quot;: &quot;Haejoon Lee&quot;, &quot;gender&quot;: &quot;M&quot;, &quot;salary&quot;: 200}\n",
              "... ])\n",
              "\n",
              "Once created, it can be manipulated using the various domain-specific-language\n",
              "(DSL) functions defined in: :class:`DataFrame`, :class:`Column`.\n",
              "\n",
              "To select a column from the :class:`DataFrame`, use the apply method:\n",
              "\n",
              "&gt;&gt;&gt; age_col = people.age\n",
              "\n",
              "A more concrete example:\n",
              "\n",
              "&gt;&gt;&gt; # To create DataFrame using SparkSession\n",
              "... department = spark.createDataFrame([\n",
              "...     {&quot;id&quot;: 1, &quot;name&quot;: &quot;PySpark&quot;},\n",
              "...     {&quot;id&quot;: 2, &quot;name&quot;: &quot;ML&quot;},\n",
              "...     {&quot;id&quot;: 3, &quot;name&quot;: &quot;Spark SQL&quot;}\n",
              "... ])\n",
              "\n",
              "&gt;&gt;&gt; people.filter(people.age &gt; 30).join(\n",
              "...     department, people.deptId == department.id).groupBy(\n",
              "...     department.name, &quot;gender&quot;).agg({&quot;salary&quot;: &quot;avg&quot;, &quot;age&quot;: &quot;max&quot;}).show()\n",
              "+-------+------+-----------+--------+\n",
              "|   name|gender|avg(salary)|max(age)|\n",
              "+-------+------+-----------+--------+\n",
              "|     ML|     F|      150.0|      60|\n",
              "|PySpark|     M|       75.0|      50|\n",
              "+-------+------+-----------+--------+\n",
              "\n",
              "Notes\n",
              "-----\n",
              "A DataFrame should only be created as described above. It should not be directly\n",
              "created via using the constructor.</pre>\n",
              "      <script>\n",
              "      if (google.colab.kernel.accessAllowed && google.colab.files && google.colab.files.view) {\n",
              "        for (const element of document.querySelectorAll('.filepath')) {\n",
              "          element.style.display = 'block'\n",
              "          element.onclick = (event) => {\n",
              "            event.preventDefault();\n",
              "            event.stopPropagation();\n",
              "            google.colab.files.view(element.textContent, 80);\n",
              "          };\n",
              "        }\n",
              "      }\n",
              "      for (const element of document.querySelectorAll('.function-repr-contents')) {\n",
              "        element.onclick = (event) => {\n",
              "          event.preventDefault();\n",
              "          event.stopPropagation();\n",
              "          element.classList.toggle('function-repr-contents-collapsed');\n",
              "        };\n",
              "      }\n",
              "      </script>\n",
              "      </div>"
            ]
          },
          "metadata": {},
          "execution_count": 9
        }
      ]
    },
    {
      "cell_type": "markdown",
      "metadata": {
        "id": "xtX1WRH0ua2M"
      },
      "source": [
        "### Print first 7 rows of the dataframe"
      ]
    },
    {
      "cell_type": "code",
      "metadata": {
        "id": "oudof3cwua2N",
        "outputId": "07c67e54-3b9e-4c13-9907-f274ac6d169a",
        "colab": {
          "base_uri": "https://localhost:8080/"
        }
      },
      "source": [
        "df.show(7)"
      ],
      "execution_count": null,
      "outputs": [
        {
          "output_type": "stream",
          "name": "stdout",
          "text": [
            "+-----------------+----+---+----+---+----+-----+-----+---+---+----+----+\n",
            "|              _c0| _c1|_c2| _c3|_c4| _c5|  _c6|  _c7|_c8|_c9|_c10|_c11|\n",
            "+-----------------+----+---+----+---+----+-----+-----+---+---+----+----+\n",
            "|            model| mpg|cyl|disp| hp|drat|   wt| qsec| vs| am|gear|carb|\n",
            "|        Mazda RX4|  21|  6| 160|110| 3.9| 2.62|16.46|  0|  1|   4|   4|\n",
            "|    Mazda RX4 Wag|  21|  6| 160|110| 3.9|2.875|17.02|  0|  1|   4|   4|\n",
            "|       Datsun 710|22.8|  4| 108| 93|3.85| 2.32|18.61|  1|  1|   4|   1|\n",
            "|   Hornet 4 Drive|21.4|  6| 258|110|3.08|3.215|19.44|  1|  0|   3|   1|\n",
            "|Hornet Sportabout|18.7|  8| 360|175|3.15| 3.44|17.02|  0|  0|   3|   2|\n",
            "|          Valiant|18.1|  6| 225|105|2.76| 3.46|20.22|  1|  0|   3|   1|\n",
            "+-----------------+----+---+----+---+----+-----+-----+---+---+----+----+\n",
            "only showing top 7 rows\n",
            "\n"
          ]
        }
      ]
    },
    {
      "cell_type": "code",
      "source": [
        "# Read the CSV file without the first row and with the second row as the header\n",
        "df2 = spark.read.option(\"header\", \"true\").csv(\"/content/mtcars.csv\")\n",
        "\n",
        "# Show DataFrame\n",
        "df2.show()\n"
      ],
      "metadata": {
        "colab": {
          "base_uri": "https://localhost:8080/"
        },
        "id": "55N63aFHDsgH",
        "outputId": "27220578-f4ee-4c26-a021-09ae9acf72f3"
      },
      "execution_count": null,
      "outputs": [
        {
          "output_type": "stream",
          "name": "stdout",
          "text": [
            "+-------------------+----+---+-----+---+----+-----+-----+---+---+----+----+\n",
            "|              model| mpg|cyl| disp| hp|drat|   wt| qsec| vs| am|gear|carb|\n",
            "+-------------------+----+---+-----+---+----+-----+-----+---+---+----+----+\n",
            "|          Mazda RX4|  21|  6|  160|110| 3.9| 2.62|16.46|  0|  1|   4|   4|\n",
            "|      Mazda RX4 Wag|  21|  6|  160|110| 3.9|2.875|17.02|  0|  1|   4|   4|\n",
            "|         Datsun 710|22.8|  4|  108| 93|3.85| 2.32|18.61|  1|  1|   4|   1|\n",
            "|     Hornet 4 Drive|21.4|  6|  258|110|3.08|3.215|19.44|  1|  0|   3|   1|\n",
            "|  Hornet Sportabout|18.7|  8|  360|175|3.15| 3.44|17.02|  0|  0|   3|   2|\n",
            "|            Valiant|18.1|  6|  225|105|2.76| 3.46|20.22|  1|  0|   3|   1|\n",
            "|         Duster 360|14.3|  8|  360|245|3.21| 3.57|15.84|  0|  0|   3|   4|\n",
            "|          Merc 240D|24.4|  4|146.7| 62|3.69| 3.19|   20|  1|  0|   4|   2|\n",
            "|           Merc 230|22.8|  4|140.8| 95|3.92| 3.15| 22.9|  1|  0|   4|   2|\n",
            "|           Merc 280|19.2|  6|167.6|123|3.92| 3.44| 18.3|  1|  0|   4|   4|\n",
            "|          Merc 280C|17.8|  6|167.6|123|3.92| 3.44| 18.9|  1|  0|   4|   4|\n",
            "|         Merc 450SE|16.4|  8|275.8|180|3.07| 4.07| 17.4|  0|  0|   3|   3|\n",
            "|         Merc 450SL|17.3|  8|275.8|180|3.07| 3.73| 17.6|  0|  0|   3|   3|\n",
            "|        Merc 450SLC|15.2|  8|275.8|180|3.07| 3.78|   18|  0|  0|   3|   3|\n",
            "| Cadillac Fleetwood|10.4|  8|  472|205|2.93| 5.25|17.98|  0|  0|   3|   4|\n",
            "|Lincoln Continental|10.4|  8|  460|215|   3|5.424|17.82|  0|  0|   3|   4|\n",
            "|  Chrysler Imperial|14.7|  8|  440|230|3.23|5.345|17.42|  0|  0|   3|   4|\n",
            "|           Fiat 128|32.4|  4| 78.7| 66|4.08|  2.2|19.47|  1|  1|   4|   1|\n",
            "|        Honda Civic|30.4|  4| 75.7| 52|4.93|1.615|18.52|  1|  1|   4|   2|\n",
            "|     Toyota Corolla|33.9|  4| 71.1| 65|4.22|1.835| 19.9|  1|  1|   4|   1|\n",
            "+-------------------+----+---+-----+---+----+-----+-----+---+---+----+----+\n",
            "only showing top 20 rows\n",
            "\n"
          ]
        }
      ]
    },
    {
      "cell_type": "markdown",
      "metadata": {
        "id": "ipODfU4Xua2Q"
      },
      "source": [
        "### Print the schema of the dataframe"
      ]
    },
    {
      "cell_type": "code",
      "metadata": {
        "id": "6Kyp8ON6ua2R",
        "outputId": "0d342ade-0d80-4c5e-85c8-efd60b186f63",
        "colab": {
          "base_uri": "https://localhost:8080/"
        }
      },
      "source": [
        "df2.printSchema()"
      ],
      "execution_count": null,
      "outputs": [
        {
          "output_type": "stream",
          "name": "stdout",
          "text": [
            "root\n",
            " |-- model: string (nullable = true)\n",
            " |-- mpg: string (nullable = true)\n",
            " |-- cyl: string (nullable = true)\n",
            " |-- disp: string (nullable = true)\n",
            " |-- hp: string (nullable = true)\n",
            " |-- drat: string (nullable = true)\n",
            " |-- wt: string (nullable = true)\n",
            " |-- qsec: string (nullable = true)\n",
            " |-- vs: string (nullable = true)\n",
            " |-- am: string (nullable = true)\n",
            " |-- gear: string (nullable = true)\n",
            " |-- carb: string (nullable = true)\n",
            "\n"
          ]
        }
      ]
    },
    {
      "cell_type": "markdown",
      "metadata": {
        "id": "64-QKXV8ua2T"
      },
      "source": [
        "### Print the number of columns and rows in dataframe"
      ]
    },
    {
      "cell_type": "code",
      "metadata": {
        "id": "eCZ0Oi4eua2U",
        "outputId": "2521b798-0b53-4d19-f270-3b9dc5f5268d",
        "colab": {
          "base_uri": "https://localhost:8080/"
        }
      },
      "source": [
        "print('number of rows:'+ str(df2.count()))\n",
        "print('number of columns:'+ str(len(df2.columns)))"
      ],
      "execution_count": null,
      "outputs": [
        {
          "output_type": "stream",
          "name": "stdout",
          "text": [
            "number of rows:32\n",
            "number of columns:12\n"
          ]
        }
      ]
    },
    {
      "cell_type": "markdown",
      "metadata": {
        "id": "21JcsXSdzVAR"
      },
      "source": []
    },
    {
      "cell_type": "markdown",
      "metadata": {
        "id": "8un4UPL-ua2Y"
      },
      "source": [
        "### Print the summary statistics of dataframe and any 2 individual columns"
      ]
    },
    {
      "cell_type": "code",
      "metadata": {
        "id": "XhNVAYJxua2Z",
        "outputId": "a73cdabe-6aec-4488-9131-35da998be81a",
        "colab": {
          "base_uri": "https://localhost:8080/"
        }
      },
      "source": [
        "## Summary statistics of the dataframe\n",
        "df2.describe().show()"
      ],
      "execution_count": null,
      "outputs": [
        {
          "output_type": "stream",
          "name": "stdout",
          "text": [
            "+-------+-----------+------------------+------------------+------------------+-----------------+------------------+------------------+------------------+------------------+-------------------+------------------+------------------+\n",
            "|summary|      model|               mpg|               cyl|              disp|               hp|              drat|                wt|              qsec|                vs|                 am|              gear|              carb|\n",
            "+-------+-----------+------------------+------------------+------------------+-----------------+------------------+------------------+------------------+------------------+-------------------+------------------+------------------+\n",
            "|  count|         32|                32|                32|                32|               32|                32|                32|                32|                32|                 32|                32|                32|\n",
            "|   mean|       NULL|20.090624999999996|            6.1875|230.72187500000004|         146.6875|3.5965625000000006|3.2172499999999995|17.848750000000003|            0.4375|            0.40625|            3.6875|            2.8125|\n",
            "| stddev|       NULL| 6.026948052089103|1.7859216469465444|123.93869383138195|68.56286848932059|0.5346787360709716|0.9784574429896968|1.7869432360968436|0.5040161287741853|0.49899091723584604|0.7378040652569471|1.6151999776318522|\n",
            "|    min|AMC Javelin|              10.4|                 4|               108|              105|              2.76|             1.513|              14.5|                 0|                  0|                 3|                 1|\n",
            "|    max| Volvo 142E|              33.9|                 8|              95.1|               97|              4.93|             5.424|              22.9|                 1|                  1|                 5|                 8|\n",
            "+-------+-----------+------------------+------------------+------------------+-----------------+------------------+------------------+------------------+------------------+-------------------+------------------+------------------+\n",
            "\n"
          ]
        }
      ]
    },
    {
      "cell_type": "markdown",
      "source": [
        "Renam5column"
      ],
      "metadata": {
        "id": "VhppuGAKAlec"
      }
    },
    {
      "cell_type": "code",
      "source": [
        "data2 = df2\n",
        "new_names = ['mpg_new', 'cyl_new', 'disp_new', 'hp_new', 'drat_new']\n",
        "for i,z in zip(data2.columns[0:5],new_names):\n",
        "    data2 = data2.withColumnRenamed(str(i),str(z))\n",
        "\n",
        "data2.columns"
      ],
      "metadata": {
        "colab": {
          "base_uri": "https://localhost:8080/"
        },
        "id": "okKWavHGAoas",
        "outputId": "b643096c-0cd9-40c3-f8fb-0f0097bcc0d3"
      },
      "execution_count": null,
      "outputs": [
        {
          "output_type": "execute_result",
          "data": {
            "text/plain": [
              "['mpg_new',\n",
              " 'cyl_new',\n",
              " 'disp_new',\n",
              " 'hp_new',\n",
              " 'drat_new',\n",
              " 'drat',\n",
              " 'wt',\n",
              " 'qsec',\n",
              " 'vs',\n",
              " 'am',\n",
              " 'gear',\n",
              " 'carb']"
            ]
          },
          "metadata": {},
          "execution_count": 15
        }
      ]
    },
    {
      "cell_type": "code",
      "source": [
        "data2.show(5)"
      ],
      "metadata": {
        "colab": {
          "base_uri": "https://localhost:8080/"
        },
        "id": "pGHP36SXCVTz",
        "outputId": "355366b1-df4e-4697-9d44-b9352b1331a1"
      },
      "execution_count": null,
      "outputs": [
        {
          "output_type": "stream",
          "name": "stdout",
          "text": [
            "+-----------------+-------+--------+------+--------+----+-----+-----+---+---+----+----+\n",
            "|          mpg_new|cyl_new|disp_new|hp_new|drat_new|drat|   wt| qsec| vs| am|gear|carb|\n",
            "+-----------------+-------+--------+------+--------+----+-----+-----+---+---+----+----+\n",
            "|        Mazda RX4|     21|       6|   160|     110| 3.9| 2.62|16.46|  0|  1|   4|   4|\n",
            "|    Mazda RX4 Wag|     21|       6|   160|     110| 3.9|2.875|17.02|  0|  1|   4|   4|\n",
            "|       Datsun 710|   22.8|       4|   108|      93|3.85| 2.32|18.61|  1|  1|   4|   1|\n",
            "|   Hornet 4 Drive|   21.4|       6|   258|     110|3.08|3.215|19.44|  1|  0|   3|   1|\n",
            "|Hornet Sportabout|   18.7|       8|   360|     175|3.15| 3.44|17.02|  0|  0|   3|   2|\n",
            "+-----------------+-------+--------+------+--------+----+-----+-----+---+---+----+----+\n",
            "only showing top 5 rows\n",
            "\n"
          ]
        }
      ]
    },
    {
      "cell_type": "code",
      "source": [
        "data=df2"
      ],
      "metadata": {
        "id": "1XmxmeOAJPWr"
      },
      "execution_count": null,
      "outputs": []
    },
    {
      "cell_type": "code",
      "source": [
        "data = data.withColumnRenamed('cyl', 'cyl_new')"
      ],
      "metadata": {
        "id": "ejAKZFYPBOAj"
      },
      "execution_count": null,
      "outputs": []
    },
    {
      "cell_type": "markdown",
      "source": [
        "count the number of distinct categories in the categorical variable"
      ],
      "metadata": {
        "id": "x5d_FO8UBlt7"
      }
    },
    {
      "cell_type": "code",
      "source": [
        "data.select('cyl_new').distinct().count()"
      ],
      "metadata": {
        "colab": {
          "base_uri": "https://localhost:8080/"
        },
        "id": "ptmx8zqRA4JD",
        "outputId": "92ca4d34-291b-4229-be8b-c3c01c27c9e0"
      },
      "execution_count": null,
      "outputs": [
        {
          "output_type": "execute_result",
          "data": {
            "text/plain": [
              "3"
            ]
          },
          "metadata": {},
          "execution_count": 19
        }
      ]
    },
    {
      "cell_type": "code",
      "source": [
        "df2.show(5)"
      ],
      "metadata": {
        "colab": {
          "base_uri": "https://localhost:8080/"
        },
        "id": "CAIF-cplCvvy",
        "outputId": "402e13ec-a967-4268-f9b1-2fc9ecbde8d2"
      },
      "execution_count": null,
      "outputs": [
        {
          "output_type": "stream",
          "name": "stdout",
          "text": [
            "+-----------------+----+---+----+---+----+-----+-----+---+---+----+----+\n",
            "|            model| mpg|cyl|disp| hp|drat|   wt| qsec| vs| am|gear|carb|\n",
            "+-----------------+----+---+----+---+----+-----+-----+---+---+----+----+\n",
            "|        Mazda RX4|  21|  6| 160|110| 3.9| 2.62|16.46|  0|  1|   4|   4|\n",
            "|    Mazda RX4 Wag|  21|  6| 160|110| 3.9|2.875|17.02|  0|  1|   4|   4|\n",
            "|       Datsun 710|22.8|  4| 108| 93|3.85| 2.32|18.61|  1|  1|   4|   1|\n",
            "|   Hornet 4 Drive|21.4|  6| 258|110|3.08|3.215|19.44|  1|  0|   3|   1|\n",
            "|Hornet Sportabout|18.7|  8| 360|175|3.15| 3.44|17.02|  0|  0|   3|   2|\n",
            "+-----------------+----+---+----+---+----+-----+-----+---+---+----+----+\n",
            "only showing top 5 rows\n",
            "\n"
          ]
        }
      ]
    },
    {
      "cell_type": "markdown",
      "source": [
        "Sort the data by categorical column"
      ],
      "metadata": {
        "id": "gSC81OyHF6IH"
      }
    },
    {
      "cell_type": "code",
      "source": [
        "data = data.orderBy(data.cyl_new)\n",
        "data.show(5)"
      ],
      "metadata": {
        "colab": {
          "base_uri": "https://localhost:8080/"
        },
        "id": "n1f44pQmFnTe",
        "outputId": "a2de18a5-8a38-41c1-bbfb-0701a3361a2a"
      },
      "execution_count": null,
      "outputs": [
        {
          "output_type": "stream",
          "name": "stdout",
          "text": [
            "+--------------+----+-------+-----+---+----+-----+-----+---+---+----+----+\n",
            "|         model| mpg|cyl_new| disp| hp|drat|   wt| qsec| vs| am|gear|carb|\n",
            "+--------------+----+-------+-----+---+----+-----+-----+---+---+----+----+\n",
            "|Toyota Corolla|33.9|      4| 71.1| 65|4.22|1.835| 19.9|  1|  1|   4|   1|\n",
            "|    Volvo 142E|21.4|      4|  121|109|4.11| 2.78| 18.6|  1|  1|   4|   2|\n",
            "| Toyota Corona|21.5|      4|120.1| 97| 3.7|2.465|20.01|  1|  0|   3|   1|\n",
            "|   Honda Civic|30.4|      4| 75.7| 52|4.93|1.615|18.52|  1|  1|   4|   2|\n",
            "|     Fiat X1-9|27.3|      4|   79| 66|4.08|1.935| 18.9|  1|  1|   4|   1|\n",
            "+--------------+----+-------+-----+---+----+-----+-----+---+---+----+----+\n",
            "only showing top 5 rows\n",
            "\n"
          ]
        }
      ]
    },
    {
      "cell_type": "code",
      "source": [
        "\n",
        "data.count()"
      ],
      "metadata": {
        "colab": {
          "base_uri": "https://localhost:8080/"
        },
        "id": "Sdxaz686GTTe",
        "outputId": "b9660617-de21-4bb0-b8b5-52fd9105e861"
      },
      "execution_count": null,
      "outputs": [
        {
          "output_type": "execute_result",
          "data": {
            "text/plain": [
              "32"
            ]
          },
          "metadata": {},
          "execution_count": 22
        }
      ]
    },
    {
      "cell_type": "code",
      "source": [
        "data.show(5)"
      ],
      "metadata": {
        "colab": {
          "base_uri": "https://localhost:8080/"
        },
        "id": "EvnxGjWUJabK",
        "outputId": "cb8bbd8f-7449-4600-d5c0-f9f96ea0909a"
      },
      "execution_count": null,
      "outputs": [
        {
          "output_type": "stream",
          "name": "stdout",
          "text": [
            "+--------------+----+-------+-----+---+----+-----+-----+---+---+----+----+\n",
            "|         model| mpg|cyl_new| disp| hp|drat|   wt| qsec| vs| am|gear|carb|\n",
            "+--------------+----+-------+-----+---+----+-----+-----+---+---+----+----+\n",
            "|Toyota Corolla|33.9|      4| 71.1| 65|4.22|1.835| 19.9|  1|  1|   4|   1|\n",
            "|    Volvo 142E|21.4|      4|  121|109|4.11| 2.78| 18.6|  1|  1|   4|   2|\n",
            "| Toyota Corona|21.5|      4|120.1| 97| 3.7|2.465|20.01|  1|  0|   3|   1|\n",
            "|   Honda Civic|30.4|      4| 75.7| 52|4.93|1.615|18.52|  1|  1|   4|   2|\n",
            "|     Fiat X1-9|27.3|      4|   79| 66|4.08|1.935| 18.9|  1|  1|   4|   1|\n",
            "+--------------+----+-------+-----+---+----+-----+-----+---+---+----+----+\n",
            "only showing top 5 rows\n",
            "\n"
          ]
        }
      ]
    },
    {
      "cell_type": "markdown",
      "source": [
        "Calculate the mean of the summation column for each distinct category in the catgeorical variable"
      ],
      "metadata": {
        "id": "SFt2e0FDF9Qu"
      }
    },
    {
      "cell_type": "code",
      "source": [
        "#from pyspark.sql.functions import col\n",
        "\n",
        "# Add the new columns colsum and colproduct based on the specified operations\n",
        "data = data.withColumn('colsum', data.mpg + data.hp)\n",
        "data = data.withColumn('colproduct', data.mpg * data.hp)\n",
        "\n",
        "# Show the modified DataFrame\n",
        "data.show()\n",
        "\n"
      ],
      "metadata": {
        "colab": {
          "base_uri": "https://localhost:8080/"
        },
        "id": "og2iH025HfhL",
        "outputId": "268ed6f0-0add-4e12-8142-2ab90f43567b"
      },
      "execution_count": null,
      "outputs": [
        {
          "output_type": "stream",
          "name": "stdout",
          "text": [
            "+-----------------+----+-------+-----+---+----+-----+-----+---+---+----+----+------+------------------+\n",
            "|            model| mpg|cyl_new| disp| hp|drat|   wt| qsec| vs| am|gear|carb|colsum|        colproduct|\n",
            "+-----------------+----+-------+-----+---+----+-----+-----+---+---+----+----+------+------------------+\n",
            "|       Datsun 710|22.8|      4|  108| 93|3.85| 2.32|18.61|  1|  1|   4|   1| 115.8|            2120.4|\n",
            "|        Merc 240D|24.4|      4|146.7| 62|3.69| 3.19|   20|  1|  0|   4|   2|  86.4|            1512.8|\n",
            "|         Merc 230|22.8|      4|140.8| 95|3.92| 3.15| 22.9|  1|  0|   4|   2| 117.8|            2166.0|\n",
            "|         Fiat 128|32.4|      4| 78.7| 66|4.08|  2.2|19.47|  1|  1|   4|   1|  98.4|            2138.4|\n",
            "|      Honda Civic|30.4|      4| 75.7| 52|4.93|1.615|18.52|  1|  1|   4|   2|  82.4|            1580.8|\n",
            "|   Toyota Corolla|33.9|      4| 71.1| 65|4.22|1.835| 19.9|  1|  1|   4|   1|  98.9|            2203.5|\n",
            "|    Toyota Corona|21.5|      4|120.1| 97| 3.7|2.465|20.01|  1|  0|   3|   1| 118.5|            2085.5|\n",
            "|        Fiat X1-9|27.3|      4|   79| 66|4.08|1.935| 18.9|  1|  1|   4|   1|  93.3|            1801.8|\n",
            "|    Porsche 914-2|  26|      4|120.3| 91|4.43| 2.14| 16.7|  0|  1|   5|   2| 117.0|            2366.0|\n",
            "|     Lotus Europa|30.4|      4| 95.1|113|3.77|1.513| 16.9|  1|  1|   5|   2| 143.4|            3435.2|\n",
            "|       Volvo 142E|21.4|      4|  121|109|4.11| 2.78| 18.6|  1|  1|   4|   2| 130.4|            2332.6|\n",
            "|        Mazda RX4|  21|      6|  160|110| 3.9| 2.62|16.46|  0|  1|   4|   4| 131.0|            2310.0|\n",
            "|    Mazda RX4 Wag|  21|      6|  160|110| 3.9|2.875|17.02|  0|  1|   4|   4| 131.0|            2310.0|\n",
            "|   Hornet 4 Drive|21.4|      6|  258|110|3.08|3.215|19.44|  1|  0|   3|   1| 131.4|            2354.0|\n",
            "|          Valiant|18.1|      6|  225|105|2.76| 3.46|20.22|  1|  0|   3|   1| 123.1|1900.5000000000002|\n",
            "|         Merc 280|19.2|      6|167.6|123|3.92| 3.44| 18.3|  1|  0|   4|   4| 142.2|            2361.6|\n",
            "|        Merc 280C|17.8|      6|167.6|123|3.92| 3.44| 18.9|  1|  0|   4|   4| 140.8|            2189.4|\n",
            "|     Ferrari Dino|19.7|      6|  145|175|3.62| 2.77| 15.5|  0|  1|   5|   6| 194.7|            3447.5|\n",
            "|Hornet Sportabout|18.7|      8|  360|175|3.15| 3.44|17.02|  0|  0|   3|   2| 193.7|            3272.5|\n",
            "|       Duster 360|14.3|      8|  360|245|3.21| 3.57|15.84|  0|  0|   3|   4| 259.3|            3503.5|\n",
            "+-----------------+----+-------+-----+---+----+-----+-----+---+---+----+----+------+------------------+\n",
            "only showing top 20 rows\n",
            "\n"
          ]
        }
      ]
    },
    {
      "cell_type": "code",
      "source": [
        "data.groupby('cyl_new').agg({'colsum':'mean'}).show()"
      ],
      "metadata": {
        "colab": {
          "base_uri": "https://localhost:8080/"
        },
        "id": "ntYx_sHWF_9W",
        "outputId": "434aabf6-27b9-4be2-9159-fc57f28f5117"
      },
      "execution_count": null,
      "outputs": [
        {
          "output_type": "stream",
          "name": "stdout",
          "text": [
            "+-------+------------------+\n",
            "|cyl_new|       avg(colsum)|\n",
            "+-------+------------------+\n",
            "|      4|             109.3|\n",
            "|      6|142.02857142857144|\n",
            "|      8|224.31428571428575|\n",
            "+-------+------------------+\n",
            "\n"
          ]
        }
      ]
    },
    {
      "cell_type": "markdown",
      "source": [
        "..........................................................."
      ],
      "metadata": {
        "id": "orPbEmIfGmoV"
      }
    },
    {
      "cell_type": "markdown",
      "source": [
        "Create 2 new columns in dataframe by summing up and multiplying together the 2 numerical columns"
      ],
      "metadata": {
        "id": "X40J8S3uB4qq"
      }
    },
    {
      "cell_type": "markdown",
      "metadata": {
        "id": "Rf9qEsKSua2q"
      },
      "source": [
        "### Write first 7 rows of the sample dataframe in a csv file"
      ]
    },
    {
      "cell_type": "code",
      "metadata": {
        "id": "gG6tnTj1ua2s"
      },
      "source": [
        "df_p = df.toPandas()\n",
        "df_p.head(7).to_csv(\"mtcars_head.csv\")"
      ],
      "execution_count": null,
      "outputs": []
    },
    {
      "cell_type": "markdown",
      "source": [
        "##Preprocessing"
      ],
      "metadata": {
        "id": "8r_0OgZoNTnV"
      }
    },
    {
      "cell_type": "markdown",
      "source": [
        "#dropduplicate"
      ],
      "metadata": {
        "id": "38bReUYDGtom"
      }
    },
    {
      "cell_type": "code",
      "source": [
        "data = data.dropDuplicates()\n",
        "data.count()"
      ],
      "metadata": {
        "colab": {
          "base_uri": "https://localhost:8080/"
        },
        "id": "0GJARtjxGoLV",
        "outputId": "a791de3d-e2e5-4f19-bf25-797dd1870dea"
      },
      "execution_count": null,
      "outputs": [
        {
          "output_type": "execute_result",
          "data": {
            "text/plain": [
              "32"
            ]
          },
          "metadata": {},
          "execution_count": 19
        }
      ]
    },
    {
      "cell_type": "markdown",
      "source": [
        "#change type to numeric"
      ],
      "metadata": {
        "id": "-X8keU0sNL_G"
      }
    },
    {
      "cell_type": "code",
      "source": [
        "from pyspark.sql.types import DoubleType\n",
        "\n",
        "# Assuming 'data' is your DataFrame containing the dataset\n",
        "data = data.withColumn(\"cyl_new\", data[\"cyl_new\"].cast(DoubleType()))\n",
        "data = data.withColumn(\"disp\", data[\"disp\"].cast(DoubleType()))\n",
        "data = data.withColumn(\"hp\", data[\"hp\"].cast(DoubleType()))\n",
        "data = data.withColumn(\"drat\", data[\"drat\"].cast(DoubleType()))\n",
        "data = data.withColumn(\"wt\", data[\"wt\"].cast(DoubleType()))\n",
        "data = data.withColumn(\"qsec\", data[\"qsec\"].cast(DoubleType()))\n",
        "data = data.withColumn(\"vs\", data[\"vs\"].cast(DoubleType()))\n",
        "data = data.withColumn(\"gear\", data[\"gear\"].cast(DoubleType()))\n",
        "data = data.withColumn(\"carb\", data[\"carb\"].cast(DoubleType()))\n",
        "data = data.withColumn(\"am\", data[\"am\"].cast(DoubleType()))"
      ],
      "metadata": {
        "id": "00yDKcB7GU9O"
      },
      "execution_count": null,
      "outputs": []
    }
  ]
}